{
 "cells": [
  {
   "cell_type": "markdown",
   "id": "459803d2",
   "metadata": {},
   "source": [
    "## Level 1: Rule Based ChatBot"
   ]
  },
  {
   "cell_type": "code",
   "execution_count": 1,
   "id": "a6824f75",
   "metadata": {},
   "outputs": [],
   "source": [
    "# Setup & Imports\n",
    "\n",
    "import os\n",
    "import pandas as pd\n",
    "import unicodedata\n",
    "import re\n",
    "\n",
    "from sklearn.feature_extraction.text import TfidfVectorizer\n",
    "from sklearn.metrics.pairwise import cosine_similarity"
   ]
  },
  {
   "cell_type": "markdown",
   "id": "f15dc30c",
   "metadata": {},
   "source": [
    "### Load & Inspect Cleaned Data"
   ]
  },
  {
   "cell_type": "code",
   "execution_count": 2,
   "id": "da793971",
   "metadata": {},
   "outputs": [
    {
     "name": "stdout",
     "output_type": "stream",
     "text": [
      "Shape (rows × cols): (3510, 3)\n",
      "Column names: ['serial_no', 'question', 'answer']\n",
      "\n",
      "--- First 5 rows ---\n"
     ]
    },
    {
     "data": {
      "text/html": [
       "<div>\n",
       "<style scoped>\n",
       "    .dataframe tbody tr th:only-of-type {\n",
       "        vertical-align: middle;\n",
       "    }\n",
       "\n",
       "    .dataframe tbody tr th {\n",
       "        vertical-align: top;\n",
       "    }\n",
       "\n",
       "    .dataframe thead th {\n",
       "        text-align: right;\n",
       "    }\n",
       "</style>\n",
       "<table border=\"1\" class=\"dataframe\">\n",
       "  <thead>\n",
       "    <tr style=\"text-align: right;\">\n",
       "      <th></th>\n",
       "      <th>serial_no</th>\n",
       "      <th>question</th>\n",
       "      <th>answer</th>\n",
       "    </tr>\n",
       "  </thead>\n",
       "  <tbody>\n",
       "    <tr>\n",
       "      <th>0</th>\n",
       "      <td>0</td>\n",
       "      <td>hi, how are you doing?</td>\n",
       "      <td>i'm fine. how about yourself?</td>\n",
       "    </tr>\n",
       "    <tr>\n",
       "      <th>1</th>\n",
       "      <td>1</td>\n",
       "      <td>i'm fine. how about yourself?</td>\n",
       "      <td>i'm pretty good. thanks for asking.</td>\n",
       "    </tr>\n",
       "    <tr>\n",
       "      <th>2</th>\n",
       "      <td>2</td>\n",
       "      <td>i'm pretty good. thanks for asking.</td>\n",
       "      <td>no problem. so how have you been?</td>\n",
       "    </tr>\n",
       "    <tr>\n",
       "      <th>3</th>\n",
       "      <td>3</td>\n",
       "      <td>no problem. so how have you been?</td>\n",
       "      <td>i've been great. what about you?</td>\n",
       "    </tr>\n",
       "    <tr>\n",
       "      <th>4</th>\n",
       "      <td>4</td>\n",
       "      <td>i've been great. what about you?</td>\n",
       "      <td>i've been good. i'm in school right now.</td>\n",
       "    </tr>\n",
       "  </tbody>\n",
       "</table>\n",
       "</div>"
      ],
      "text/plain": [
       "   serial_no                             question   \n",
       "0          0               hi, how are you doing?  \\\n",
       "1          1        i'm fine. how about yourself?   \n",
       "2          2  i'm pretty good. thanks for asking.   \n",
       "3          3    no problem. so how have you been?   \n",
       "4          4     i've been great. what about you?   \n",
       "\n",
       "                                     answer  \n",
       "0             i'm fine. how about yourself?  \n",
       "1       i'm pretty good. thanks for asking.  \n",
       "2         no problem. so how have you been?  \n",
       "3          i've been great. what about you?  \n",
       "4  i've been good. i'm in school right now.  "
      ]
     },
     "metadata": {},
     "output_type": "display_data"
    }
   ],
   "source": [
    "# Load the cleaned CSV\n",
    "df = pd.read_csv(\"D:/PROJECTS/Version Control/CHATBOT/building-smart-bots-from-scratch/data/clean_conversation_dataset.csv\")\n",
    "\n",
    "# Quick sanity checks\n",
    "print(\"Shape (rows × cols):\", df.shape)\n",
    "print(\"Column names:\", df.columns.tolist())\n",
    "print(\"\\n--- First 5 rows ---\")\n",
    "display(df.head())"
   ]
  },
  {
   "cell_type": "code",
   "execution_count": 3,
   "id": "aa90f827",
   "metadata": {},
   "outputs": [
    {
     "name": "stdout",
     "output_type": "stream",
     "text": [
      "Non-ASCII in questions: 0\n",
      "Non-ASCII in answers:   0\n"
     ]
    }
   ],
   "source": [
    "# Double-check that everything is lowercase and ASCII-only\n",
    "def has_non_ascii(s):\n",
    "    try:\n",
    "        s.encode(\"ascii\")\n",
    "        return False\n",
    "    except UnicodeEncodeError:\n",
    "        return True\n",
    "\n",
    "num_non_ascii_q = df[\"question\"].map(has_non_ascii).sum()\n",
    "num_non_ascii_a = df[\"answer\"].map(has_non_ascii).sum()\n",
    "print(f\"Non-ASCII in questions: {num_non_ascii_q}\")\n",
    "print(f\"Non-ASCII in answers:   {num_non_ascii_a}\")"
   ]
  },
  {
   "cell_type": "code",
   "execution_count": 4,
   "id": "70bbc9c6",
   "metadata": {},
   "outputs": [
    {
     "name": "stdout",
     "output_type": "stream",
     "text": [
      "\n",
      "--- Top 3 longest questions ---\n"
     ]
    },
    {
     "data": {
      "text/html": [
       "<div>\n",
       "<style scoped>\n",
       "    .dataframe tbody tr th:only-of-type {\n",
       "        vertical-align: middle;\n",
       "    }\n",
       "\n",
       "    .dataframe tbody tr th {\n",
       "        vertical-align: top;\n",
       "    }\n",
       "\n",
       "    .dataframe thead th {\n",
       "        text-align: right;\n",
       "    }\n",
       "</style>\n",
       "<table border=\"1\" class=\"dataframe\">\n",
       "  <thead>\n",
       "    <tr style=\"text-align: right;\">\n",
       "      <th></th>\n",
       "      <th>question</th>\n",
       "      <th>q_len</th>\n",
       "    </tr>\n",
       "  </thead>\n",
       "  <tbody>\n",
       "    <tr>\n",
       "      <th>2492</th>\n",
       "      <td>what if you fall while you're holding the ligh...</td>\n",
       "      <td>97</td>\n",
       "    </tr>\n",
       "    <tr>\n",
       "      <th>3029</th>\n",
       "      <td>i mean, someone used their dirty hands to pick...</td>\n",
       "      <td>88</td>\n",
       "    </tr>\n",
       "    <tr>\n",
       "      <th>3101</th>\n",
       "      <td>when you're inside, you will always hear cars ...</td>\n",
       "      <td>88</td>\n",
       "    </tr>\n",
       "  </tbody>\n",
       "</table>\n",
       "</div>"
      ],
      "text/plain": [
       "                                               question  q_len\n",
       "2492  what if you fall while you're holding the ligh...     97\n",
       "3029  i mean, someone used their dirty hands to pick...     88\n",
       "3101  when you're inside, you will always hear cars ...     88"
      ]
     },
     "metadata": {},
     "output_type": "display_data"
    },
    {
     "name": "stdout",
     "output_type": "stream",
     "text": [
      "\n",
      "--- Top 3 shortest questions ---\n"
     ]
    },
    {
     "data": {
      "text/html": [
       "<div>\n",
       "<style scoped>\n",
       "    .dataframe tbody tr th:only-of-type {\n",
       "        vertical-align: middle;\n",
       "    }\n",
       "\n",
       "    .dataframe tbody tr th {\n",
       "        vertical-align: top;\n",
       "    }\n",
       "\n",
       "    .dataframe thead th {\n",
       "        text-align: right;\n",
       "    }\n",
       "</style>\n",
       "<table border=\"1\" class=\"dataframe\">\n",
       "  <thead>\n",
       "    <tr style=\"text-align: right;\">\n",
       "      <th></th>\n",
       "      <th>question</th>\n",
       "      <th>q_len</th>\n",
       "    </tr>\n",
       "  </thead>\n",
       "  <tbody>\n",
       "    <tr>\n",
       "      <th>914</th>\n",
       "      <td>so?</td>\n",
       "      <td>3</td>\n",
       "    </tr>\n",
       "    <tr>\n",
       "      <th>1246</th>\n",
       "      <td>no.</td>\n",
       "      <td>3</td>\n",
       "    </tr>\n",
       "    <tr>\n",
       "      <th>2914</th>\n",
       "      <td>oh.</td>\n",
       "      <td>3</td>\n",
       "    </tr>\n",
       "  </tbody>\n",
       "</table>\n",
       "</div>"
      ],
      "text/plain": [
       "     question  q_len\n",
       "914       so?      3\n",
       "1246      no.      3\n",
       "2914      oh.      3"
      ]
     },
     "metadata": {},
     "output_type": "display_data"
    }
   ],
   "source": [
    "#Peek at a couple of “longest” and “shortest” questions\n",
    "df[\"q_len\"] = df[\"question\"].map(len)\n",
    "df[\"a_len\"] = df[\"answer\"].map(len)\n",
    "\n",
    "print(\"\\n--- Top 3 longest questions ---\")\n",
    "display(df.sort_values(\"q_len\", ascending=False)[[\"question\", \"q_len\"]].head(3))\n",
    "\n",
    "print(\"\\n--- Top 3 shortest questions ---\")\n",
    "display(df.sort_values(\"q_len\", ascending=True)[[\"question\", \"q_len\"]].head(3))"
   ]
  },
  {
   "cell_type": "markdown",
   "id": "f452a9d9",
   "metadata": {},
   "source": [
    "### Re-define / Inspect normalize_text"
   ]
  },
  {
   "cell_type": "code",
   "execution_count": 5,
   "id": "de5419c9",
   "metadata": {},
   "outputs": [],
   "source": [
    "import re\n",
    "import unicodedata\n",
    "\n",
    "def normalize_text(text: str) -> str:\n",
    "    \"\"\"\n",
    "    1) Strip whitespace\n",
    "    2) Lowercase\n",
    "    3) Unicode NFKD normalize\n",
    "    4) Replace non-ASCII chars with space\n",
    "    5) Collapse multiple whitespace\n",
    "    \"\"\"\n",
    "    # 1) Strip + lowercase\n",
    "    s = text.strip().lower()\n",
    "    # 2) Unicode normalize (NFKD)\n",
    "    s = unicodedata.normalize(\"NFKD\", s)\n",
    "    # 3) Replace non-ASCII characters with space\n",
    "    s = ''.join(c if ord(c) < 128 else ' ' for c in s)\n",
    "    # 4) Collapse multiple spaces/newlines/tabs\n",
    "    s = re.sub(r\"\\s+\", \" \", s).strip()\n",
    "    return s\n"
   ]
  },
  {
   "cell_type": "code",
   "execution_count": 6,
   "id": "7bbc3934",
   "metadata": {},
   "outputs": [
    {
     "name": "stdout",
     "output_type": "stream",
     "text": [
      "Orig: '  Hello, HOW are you?  '\n",
      "Norm: 'hello, how are you?'\n",
      "\n",
      "Orig: 'different thingsÂ—not the same thing all the time!'\n",
      "Norm: 'different thingsa not the same thing all the time!'\n",
      "\n",
      "Orig: 'I’m fine—thanks!  '\n",
      "Norm: 'i m fine thanks!'\n",
      "\n"
     ]
    }
   ],
   "source": [
    "# Quick test of normalize_text\n",
    "examples = [\n",
    "    \"  Hello, HOW are you?  \",\n",
    "    \"different thingsÂ—not the same thing all the time!\",\n",
    "    \"I’m fine—thanks!  \"\n",
    "]\n",
    "for ex in examples:\n",
    "    print(f\"Orig: {ex!r}\\nNorm: {normalize_text(ex)!r}\\n\")"
   ]
  },
  {
   "cell_type": "markdown",
   "id": "29e8b2b6",
   "metadata": {},
   "source": [
    "### Vectorize Questions with TF-IDF"
   ]
  },
  {
   "cell_type": "code",
   "execution_count": 7,
   "id": "b7f44fb3",
   "metadata": {},
   "outputs": [],
   "source": [
    "# Extract questions (they’re already lowercase & ASCII-clean)\n",
    "\n",
    "questions = df[\"question\"].tolist()\n",
    "answers   = df[\"answer\"].tolist()\n",
    "\n",
    "# Instantiate TfidfVectorizer\n",
    "#    stop_words=\"english\" removes common words like \"the\", \"is\", \"and\", etc.\n",
    "\n",
    "vectorizer = TfidfVectorizer(stop_words=\"english\")"
   ]
  },
  {
   "cell_type": "code",
   "execution_count": 8,
   "id": "375f9df3",
   "metadata": {},
   "outputs": [
    {
     "name": "stdout",
     "output_type": "stream",
     "text": [
      "TF-IDF matrix shape: (3510, 2098)\n",
      " (n_questions, n_unique_terms)\n"
     ]
    }
   ],
   "source": [
    "# Fit on all questions and transform into a TF-IDF matrix\n",
    "tfidf_matrix = vectorizer.fit_transform(questions)\n",
    "\n",
    "print(f\"TF-IDF matrix shape: {tfidf_matrix.shape}\")\n",
    "print(\" (n_questions, n_unique_terms)\")"
   ]
  },
  {
   "cell_type": "code",
   "execution_count": 9,
   "id": "b8a778fe",
   "metadata": {},
   "outputs": [
    {
     "name": "stdout",
     "output_type": "stream",
     "text": [
      "\n",
      "--- Sample of learned vocabulary ---\n",
      "['00' '000' '01' '10' '100' '101' '11' '12' '120' '13' '140' '15' '18'\n",
      " '1987' '20' '200' '2003' '22' '24' '25']  ... [total terms: 2098 ]\n"
     ]
    }
   ],
   "source": [
    "# 4) Inspect the first few feature names (i.e., the vocabulary)\n",
    "feature_names = vectorizer.get_feature_names_out()\n",
    "print(\"\\n--- Sample of learned vocabulary ---\")\n",
    "print(feature_names[:20], \" ... [total terms:\", len(feature_names), \"]\")"
   ]
  },
  {
   "cell_type": "markdown",
   "id": "e492d5ec",
   "metadata": {},
   "source": [
    "### Build get_answer() Function"
   ]
  },
  {
   "cell_type": "code",
   "execution_count": 10,
   "id": "39adc3cf",
   "metadata": {},
   "outputs": [],
   "source": [
    "def get_answer(user_input: str) -> str:\n",
    "    \"\"\"\n",
    "    Returns the best-matching answer for a raw user_input string.\n",
    "    1) Normalize the input\n",
    "    2) Vectorize with TF-IDF (using our fitted 'vectorizer')\n",
    "    3) Compute cosine similarity against 'tfidf_matrix'\n",
    "    4) Return answer at index of highest similarity\n",
    "    \"\"\"\n",
    "    # 1) Normalize\n",
    "    clean_input = normalize_text(user_input)\n",
    "    \n",
    "    # 2) Vectorize (shape: 1 × n_terms)\n",
    "    user_vec = vectorizer.transform([clean_input])\n",
    "    \n",
    "    # 3) Cosine similarity (1 × n_questions array)\n",
    "    sims = cosine_similarity(user_vec, tfidf_matrix)\n",
    "    \n",
    "    # 4) Index of best match\n",
    "    best_idx = sims.argmax()\n",
    "    \n",
    "    # 5) Return the stored answer\n",
    "    return answers[best_idx]"
   ]
  },
  {
   "cell_type": "code",
   "execution_count": 11,
   "id": "e6fad5d9",
   "metadata": {},
   "outputs": [
    {
     "name": "stdout",
     "output_type": "stream",
     "text": [
      "You: 'hi, how are you doing?'\n",
      "Bot: i'm fine. how about yourself?\n",
      "\n",
      "You: 'i am fine. how about you?'\n",
      "Bot: i'm pretty good. thanks for asking.\n",
      "\n",
      "You: 'are you serious?'\n",
      "Bot: i'm fine. how about yourself?\n",
      "\n",
      "You: 'tell me something else'\n",
      "Bot: they always make \"what's next\" sound exciting, but it never is.\n",
      "\n"
     ]
    }
   ],
   "source": [
    "# Quick tests\n",
    "tests = [\n",
    "    \"hi, how are you doing?\",\n",
    "    \"i am fine. how about you?\",\n",
    "    \"are you serious?\",\n",
    "    \"tell me something else\"\n",
    "]\n",
    "\n",
    "for t in tests:\n",
    "    print(f\"You: {t!r}\\nBot: {get_answer(t)}\\n\")"
   ]
  },
  {
   "cell_type": "markdown",
   "id": "8033fb6e",
   "metadata": {},
   "source": [
    "### Interactive “Chat” Simulation"
   ]
  },
  {
   "cell_type": "code",
   "execution_count": 12,
   "id": "9b937d8f",
   "metadata": {},
   "outputs": [
    {
     "name": "stdout",
     "output_type": "stream",
     "text": [
      "🤖 Chatbot (Rule Based) Ready. Type 'exit' to quit.\n",
      "\n",
      "Bot: i'm fine. how about yourself?\n",
      "Bot: i'm pretty good. thanks for asking.\n",
      "Bot: i'm doing well. how about you?\n",
      "Bot: Goodbye! 👋\n"
     ]
    }
   ],
   "source": [
    "# Simple Input Loop (type & run cell each time)\n",
    "\n",
    "print(\"🤖 Chatbot (Rule Based) Ready. Type 'exit' to quit.\\n\")\n",
    "\n",
    "while True:\n",
    "    user_text = input(\"You: \")\n",
    "    if user_text.strip().lower() == \"exit\":\n",
    "        print(\"Bot: Goodbye! 👋\")\n",
    "        break\n",
    "    elif not user_text.strip():\n",
    "        print(\"Bot: Please type something or 'exit' to quit.\")\n",
    "        continue\n",
    "    else:\n",
    "        bot_resp = get_answer(user_text)\n",
    "        print(\"Bot:\", bot_resp)"
   ]
  },
  {
   "cell_type": "code",
   "execution_count": 13,
   "id": "4e126ed8",
   "metadata": {},
   "outputs": [
    {
     "data": {
      "application/vnd.jupyter.widget-view+json": {
       "model_id": "0f14bf37179f46288c55462e50dcdba9",
       "version_major": 2,
       "version_minor": 0
      },
      "text/plain": [
       "Output()"
      ]
     },
     "metadata": {},
     "output_type": "display_data"
    },
    {
     "data": {
      "application/vnd.jupyter.widget-view+json": {
       "model_id": "5307652f2eee43e5940fd59cdab94fed",
       "version_major": 2,
       "version_minor": 0
      },
      "text/plain": [
       "HBox(children=(Text(value='', placeholder='Type your message here...'), Button(description='Send', style=Butto…"
      ]
     },
     "metadata": {},
     "output_type": "display_data"
    }
   ],
   "source": [
    "import ipywidgets as widgets\n",
    "from IPython.display import display, clear_output\n",
    "\n",
    "# 2) Create text input box & output area\n",
    "input_box = widgets.Text(placeholder=\"Type your message here...\")\n",
    "send_button = widgets.Button(description=\"Send\")\n",
    "chat_area = widgets.Output()\n",
    "\n",
    "# 3) Define what happens when “Send” is clicked\n",
    "def on_send_clicked(b):\n",
    "    user_msg = input_box.value\n",
    "    if not user_msg.strip():\n",
    "        return\n",
    "    with chat_area:\n",
    "        clear_output(wait=True)\n",
    "        print(\"You:\", user_msg)\n",
    "        if user_msg.strip().lower() == \"exit\":\n",
    "            print(\"Bot: Goodbye! 👋\")\n",
    "        else:\n",
    "            response = get_answer(user_msg)\n",
    "            print(\"Bot:\", response)\n",
    "    input_box.value = \"\"  # clear input\n",
    "\n",
    "send_button.on_click(on_send_clicked)\n",
    "\n",
    "# 4) Layout\n",
    "display(chat_area, widgets.HBox([input_box, send_button]))"
   ]
  }
 ],
 "metadata": {
  "kernelspec": {
   "display_name": "venv",
   "language": "python",
   "name": "python3"
  },
  "language_info": {
   "codemirror_mode": {
    "name": "ipython",
    "version": 3
   },
   "file_extension": ".py",
   "mimetype": "text/x-python",
   "name": "python",
   "nbconvert_exporter": "python",
   "pygments_lexer": "ipython3",
   "version": "3.11.0"
  }
 },
 "nbformat": 4,
 "nbformat_minor": 5
}
